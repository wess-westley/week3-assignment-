{
  "metadata": {
    "kernelspec": {
      "name": "python",
      "display_name": "Python (Pyodide)",
      "language": "python"
    },
    "language_info": {
      "codemirror_mode": {
        "name": "python",
        "version": 3
      },
      "file_extension": ".py",
      "mimetype": "text/x-python",
      "name": "python",
      "nbconvert_exporter": "python",
      "pygments_lexer": "ipython3",
      "version": "3.8"
    }
  },
  "nbformat_minor": 5,
  "nbformat": 4,
  "cells": [
    {
      "id": "dadfbb6c-e771-419b-8ea1-975b4086e385",
      "cell_type": "markdown",
      "source": "# Step 1: Get all the tools we need from the toolbox",
      "metadata": {}
    },
    {
      "id": "3179555d-310b-47b9-8b6c-7a1f2ba1674e",
      "cell_type": "code",
      "source": "from sklearn.datasets import load_iris  # This gives us the flower data\nfrom sklearn.model_selection import train_test_split  # This helps split data into practice and test sets\nfrom sklearn.tree import DecisionTreeClassifier  # This is our \"robot brain\" that learns patterns\nfrom sklearn.metrics import accuracy_score, precision_score, recall_score  # These check how good our robot is\nimport pandas as pd  # This helps us look at and manage data easily\n\nprint(\"Starting Flower Classification Project\")  # Test - message to know we started\n\n# Load the flower data from sklearn's built-in dataset\niris = load_iris()  # Gets the iris flower dataset\nX = iris.data  # These are the flower measurements (sepal length, sepal width, petal length, petal width)\ny = iris.target  # These are the answers (0=setosa, 1=versicolor, 2=virginica)",
      "metadata": {
        "trusted": true
      },
      "outputs": [
        {
          "name": "stdout",
          "output_type": "stream",
          "text": "Starting Flower Classification Project\n"
        }
      ],
      "execution_count": 22
    },
    {
      "id": "4acf8822-9991-4dc3-9241-126dd08ff86f",
      "cell_type": "code",
      "source": "# Step 2: Prepare our data\nprint(\"Checking our flower data...\")  # Tell user what we're doing\nprint(f\"We have {len(X)} flowers to learn from!\")  # Show how many flowers we have\nprint(f\"Flower types: {iris.target_names}\")  # Show the names of the 3 flower types\n\n# Split our data into two groups: practice set and test set\n# test_size=0.2 means 20% for testing, 80% for practice\n# random_state=42 makes sure we get the same split every time (like using the same random seed)\nX_train, X_test, y_train, y_test = train_test_split(X, y, test_size=0.2, random_state=42)\n\nprint(f\"Practice flowers: {len(X_train)}, Test flowers: {len(X_test)}\")  # Show the split counts",
      "metadata": {
        "trusted": true
      },
      "outputs": [
        {
          "name": "stdout",
          "output_type": "stream",
          "text": "Checking our flower data...\nWe have 150 flowers to learn from!\nFlower types: ['setosa' 'versicolor' 'virginica']\nPractice flowers: 120, Test flowers: 30\n"
        }
      ],
      "execution_count": 11
    },
    {
      "id": "fe4ccaa1-4d9a-4bc7-a753-93134221f4ca",
      "cell_type": "code",
      "source": "# Step 3: Build and train our robot\nprint(\"Building flower classification robot...\")  # Let user know we're creating the AI\nflower_robot = DecisionTreeClassifier()  # Create our decision tree classifier (the \"robot brain\")\nflower_robot.fit(X_train, y_train)  # Train the robot using our practice flowers and their correct answers\nprint(\"Robot training complete\")  # Message when training is done",
      "metadata": {
        "trusted": true
      },
      "outputs": [
        {
          "name": "stdout",
          "output_type": "stream",
          "text": "Building flower classification robot...\nRobot training complete\n"
        }
      ],
      "execution_count": 23
    },
    {
      "id": "f805fb98-e988-4efd-9492-f186be9dfc85",
      "cell_type": "code",
      "source": "# Now let's see if our robot learned properly!\npredictions = flower_robot.predict(X_test)\n\n# Check its report card:\naccuracy = accuracy_score(y_test, predictions)\nprecision = precision_score(y_test, predictions, average='weighted')\nrecall = recall_score(y_test, predictions, average='weighted')\n\nprint(\"My Flower Robot's Report Card:\")\nprint(f\"Accuracy: {accuracy:.2f} (How often it's right)\")\nprint(f\"Precision: {precision:.2f} (When it guesses a type, how often it's correct)\")\nprint(f\"Recall: {recall:.2f} (How many of each flower type it can find)\")",
      "metadata": {
        "trusted": true
      },
      "outputs": [
        {
          "name": "stdout",
          "output_type": "stream",
          "text": "My Flower Robot's Report Card:\nAccuracy: 1.00 (How often it's right)\nPrecision: 1.00 (When it guesses a type, how often it's correct)\nRecall: 1.00 (How many of each flower type it can find)\n"
        }
      ],
      "execution_count": 18
    },
    {
      "id": "ea775d96-fd39-497a-8f98-43f8ad600703",
      "cell_type": "code",
      "source": "# Bonus: Test - Let's see what the robot thinks about some actual flowers\nprint(\"\\n Robot's predictions on test flowers:\")  # Header for prediction examples\n\n# Look at the first 5 test flowers and show what the robot guessed vs actual answer\nfor i in range(5):  # Do this 5 times (i = 0, 1, 2, 3, 4)\n    actual_flower = iris.target_names[y_test[i]]  # Get the actual flower name from the answer key\n    predicted_flower = iris.target_names[predictions[i]]  # Get the flower name the robot guessed\n    print(f\"Flower {i+1}: Robot guessed '{predicted_flower}', actually was '{actual_flower}'\")  # Show comparison\n\n# Extra bonus: Show what the measurements look like\nprint(\"\\n Example of what the robot sees (first flower measurements):\")\nprint(f\"Sepal length: {X_test[0][0]:.1f}cm, Sepal width: {X_test[0][1]:.1f}cm, \" +\n      f\"Petal length: {X_test[0][2]:.1f}cm, Petal width: {X_test[0][3]:.1f}cm\")",
      "metadata": {
        "trusted": true
      },
      "outputs": [
        {
          "name": "stdout",
          "output_type": "stream",
          "text": "\n Robot's predictions on test flowers:\nFlower 1: Robot guessed 'versicolor', actually was 'versicolor'\nFlower 2: Robot guessed 'setosa', actually was 'setosa'\nFlower 3: Robot guessed 'virginica', actually was 'virginica'\nFlower 4: Robot guessed 'versicolor', actually was 'versicolor'\nFlower 5: Robot guessed 'versicolor', actually was 'versicolor'\n\n Example of what the robot sees (first flower measurements):\nSepal length: 6.1cm, Sepal width: 2.8cm, Petal length: 4.7cm, Petal width: 1.2cm\n"
        }
      ],
      "execution_count": 24
    },
    {
      "id": "88347b7b-7633-4515-86d1-f37321f5c68c",
      "cell_type": "code",
      "source": "",
      "metadata": {
        "trusted": true
      },
      "outputs": [],
      "execution_count": null
    }
  ]
}